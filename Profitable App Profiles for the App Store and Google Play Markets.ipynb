{
 "cells": [
  {
   "cell_type": "markdown",
   "id": "efa4eafe-5b3c-4bdd-8296-c03e294a4c87",
   "metadata": {},
   "source": [
    "<p style=\"font-size:35px; font-weight:bold\"> Análisis de Información de Aplicaciones Móviles</p>\n",
    "\n",
    "Este proyecto es parte del curso de Ciencia de Datos en Python de **DataQuest**. En él, se pretende formar parte de una compañía que desarrolla aplicaciones para **Google Play** y la **App Store**, y que obtiene ingresos a partir de **anuncios desplegados** en dichas aplicaciones. Entre más usuarios tenga una aplicación, mayores serán los ingresos. El objetivo es analizar información de aplicaciones móviles para ayudar a los desarrolladores a **elegir el tipo de aplicaciones que tienen el mayor potencial de atraer usuarios**.\n",
    "\n",
    "**Fuentes de Datos**\n",
    "\n",
    "Hay dos fuentes gratuitas que contienen información relevante sobre aplicaciones móviles:\n",
    "\n",
    "- **Android**: Una base que contiene información de **10,000 aplicaciones** disponibles en Google Play.  \n",
    "  L. Gupta, *\"Google Play Store Apps,\"* Feb 2019. Disponible en:  \n",
    "  [https://www.kaggle.com/lava18/google-play-store-apps](https://www.kaggle.com/lava18/google-play-store-apps)\n",
    "\n",
    "- **iOS**: Una base que contiene información de aproximadamente **7,000 aplicaciones** de la App Store.  \n",
    "  Disponible en:  \n",
    "  [https://www.kaggle.com/datasets/ramamet4/app-store-apple-data-set-10k-apps](https://www.kaggle.com/datasets/ramamet4/app-store-apple-data-set-10k-apps)\n"
   ]
  },
  {
   "cell_type": "markdown",
   "id": "7cceeb2c-df82-4c06-9d3e-7fc87b8e20cd",
   "metadata": {},
   "source": [
    "# Abrir Archivos\n",
    "\n",
    "Se importan los archivos `googleplaystore.csv` y `AppleStore.csv` como **listas de listas**.  \n",
    "Para ambos archivos, se realiza el siguiente procedimiento:\n",
    "\n",
    "1. Se abre el archivo con `open()`.\n",
    "2. Se convierte en un objeto `reader` con `reader()`.\n",
    "3. Se transforma en una lista completa con `list()`.\n",
    "4. Se separa la primera fila como **encabezado** y luego se elimina esa fila de los datos."
   ]
  },
  {
   "cell_type": "code",
   "execution_count": 3,
   "id": "b27e1801-8063-4868-8f91-0ef781fa27da",
   "metadata": {},
   "outputs": [],
   "source": [
    "from csv import reader\n",
    "\n",
    "### The Google Play data set ###\n",
    "opened_file = open('googleplaystore.csv')\n",
    "read_file = reader(opened_file)\n",
    "android = list(read_file)\n",
    "android_header = android[0]\n",
    "android = android[1:]\n",
    "\n",
    "### The App Store data set ###\n",
    "opened_file = open('AppleStore.csv')\n",
    "read_file = reader(opened_file)\n",
    "ios = list(read_file)\n",
    "ios_header = ios[0]\n",
    "ios = ios[1:]"
   ]
  },
  {
   "cell_type": "markdown",
   "id": "b6c48eaf-3238-42d3-9688-3ae39cc98aeb",
   "metadata": {},
   "source": [
    "Se analiza que los títulos coincidan con el contenido."
   ]
  },
  {
   "cell_type": "code",
   "execution_count": 5,
   "id": "3334b8ab-ad78-4c4d-92e3-b2b737e56951",
   "metadata": {},
   "outputs": [
    {
     "data": {
      "text/plain": [
       "['App',\n",
       " 'Category',\n",
       " 'Rating',\n",
       " 'Reviews',\n",
       " 'Size',\n",
       " 'Installs',\n",
       " 'Type',\n",
       " 'Price',\n",
       " 'Content Rating',\n",
       " 'Genres',\n",
       " 'Last Updated',\n",
       " 'Current Ver',\n",
       " 'Android Ver']"
      ]
     },
     "execution_count": 5,
     "metadata": {},
     "output_type": "execute_result"
    }
   ],
   "source": [
    "android_header"
   ]
  },
  {
   "cell_type": "code",
   "execution_count": 6,
   "id": "5abc07c8-e1a6-45a3-af63-17472259f8fb",
   "metadata": {},
   "outputs": [
    {
     "data": {
      "text/plain": [
       "['Photo Editor & Candy Camera & Grid & ScrapBook',\n",
       " 'ART_AND_DESIGN',\n",
       " '4.1',\n",
       " '159',\n",
       " '19M',\n",
       " '10,000+',\n",
       " 'Free',\n",
       " '0',\n",
       " 'Everyone',\n",
       " 'Art & Design',\n",
       " 'January 7, 2018',\n",
       " '1.0.0',\n",
       " '4.0.3 and up']"
      ]
     },
     "execution_count": 6,
     "metadata": {},
     "output_type": "execute_result"
    }
   ],
   "source": [
    "android[0]"
   ]
  },
  {
   "cell_type": "code",
   "execution_count": 7,
   "id": "dbec60fb-b64b-49b6-99e7-1d40390671f9",
   "metadata": {},
   "outputs": [
    {
     "data": {
      "text/plain": [
       "['',\n",
       " 'id',\n",
       " 'track_name',\n",
       " 'size_bytes',\n",
       " 'currency',\n",
       " 'price',\n",
       " 'rating_count_tot',\n",
       " 'rating_count_ver',\n",
       " 'user_rating',\n",
       " 'user_rating_ver',\n",
       " 'ver',\n",
       " 'cont_rating',\n",
       " 'prime_genre',\n",
       " 'sup_devices.num',\n",
       " 'ipadSc_urls.num',\n",
       " 'lang.num',\n",
       " 'vpp_lic']"
      ]
     },
     "execution_count": 7,
     "metadata": {},
     "output_type": "execute_result"
    }
   ],
   "source": [
    "ios_header"
   ]
  },
  {
   "cell_type": "code",
   "execution_count": 8,
   "id": "04688160-9405-459b-a165-37bba273b82b",
   "metadata": {},
   "outputs": [
    {
     "data": {
      "text/plain": [
       "['1',\n",
       " '281656475',\n",
       " 'PAC-MAN Premium',\n",
       " '100788224',\n",
       " 'USD',\n",
       " '3.99',\n",
       " '21292',\n",
       " '26',\n",
       " '4',\n",
       " '4.5',\n",
       " '6.3.5',\n",
       " '4+',\n",
       " 'Games',\n",
       " '38',\n",
       " '5',\n",
       " '10',\n",
       " '1']"
      ]
     },
     "execution_count": 8,
     "metadata": {},
     "output_type": "execute_result"
    }
   ],
   "source": [
    "ios[0]"
   ]
  },
  {
   "cell_type": "markdown",
   "id": "76cffdc3-6ca0-4baf-be36-f216cde955b8",
   "metadata": {},
   "source": [
    "Observamos que los títulos de ios tienen un valor ausente al principio. Este título corresponde a una columna que solo tiene un contador. Por ende, se elimina eso de la lista de títulos y la primera columna de cada fila de ios. "
   ]
  },
  {
   "cell_type": "code",
   "execution_count": 10,
   "id": "db47f57d-fcca-421b-88c9-6024b7db9dc6",
   "metadata": {},
   "outputs": [],
   "source": [
    "# Eliminar la primera entrada de la lista de encabezados\n",
    "del ios_header[0]\n",
    "# Eliminar la primera columna de cada fila en android\n",
    "for row in ios:\n",
    "    del row[0]"
   ]
  },
  {
   "cell_type": "markdown",
   "id": "7b54f899-95d0-423e-9d97-6fb73f64e775",
   "metadata": {},
   "source": [
    "# Explorar los archivos con `explore_data()`\n",
    "\n",
    "Para facilitar la exploración de ambas bases de datos, definimos una función llamada `explore_data()` que:\n",
    "\n",
    "- Muestra un número específico de filas de forma legible (una por renglón).\n",
    "- Tiene la opción de imprimir también el número total de filas y columnas.\n",
    "\n",
    "Esta función será útil para revisar rápidamente cualquier dataset sin imprimirlo todo."
   ]
  },
  {
   "cell_type": "code",
   "execution_count": 12,
   "id": "a320101e-9d7d-432e-9f4c-afe000e5fe0e",
   "metadata": {},
   "outputs": [],
   "source": [
    "def explore_data(dataset, start, end, rows_and_columns=False):\n",
    "    dataset_slice = dataset[start:end]\n",
    "    for row in dataset_slice:\n",
    "        print(row)\n",
    "        print('\\n') # adds a new (empty) line after each row\n",
    "\n",
    "    if rows_and_columns:\n",
    "        print('Number of rows:', len(dataset))\n",
    "        print('Number of columns:', len(dataset[0]))"
   ]
  },
  {
   "cell_type": "code",
   "execution_count": 13,
   "id": "12028115-fa8d-473f-bedd-4cf91721d1b4",
   "metadata": {},
   "outputs": [
    {
     "name": "stdout",
     "output_type": "stream",
     "text": [
      "['Coloring book moana', 'ART_AND_DESIGN', '3.9', '967', '14M', '500,000+', 'Free', '0', 'Everyone', 'Art & Design;Pretend Play', 'January 15, 2018', '2.0.0', '4.0.3 and up']\n",
      "\n",
      "\n",
      "['U Launcher Lite – FREE Live Cool Themes, Hide Apps', 'ART_AND_DESIGN', '4.7', '87510', '8.7M', '5,000,000+', 'Free', '0', 'Everyone', 'Art & Design', 'August 1, 2018', '1.2.4', '4.0.3 and up']\n",
      "\n",
      "\n",
      "['Sketch - Draw & Paint', 'ART_AND_DESIGN', '4.5', '215644', '25M', '50,000,000+', 'Free', '0', 'Teen', 'Art & Design', 'June 8, 2018', 'Varies with device', '4.2 and up']\n",
      "\n",
      "\n",
      "['Pixel Draw - Number Art Coloring Book', 'ART_AND_DESIGN', '4.3', '967', '2.8M', '100,000+', 'Free', '0', 'Everyone', 'Art & Design;Creativity', 'June 20, 2018', '1.1', '4.4 and up']\n",
      "\n",
      "\n",
      "Number of rows: 10841\n",
      "Number of columns: 13\n"
     ]
    }
   ],
   "source": [
    "explore_data(android, 1,5, True)"
   ]
  },
  {
   "cell_type": "markdown",
   "id": "1cb165bb-9fe5-43f8-9b52-26bab41269c0",
   "metadata": {},
   "source": [
    "Tras ejecutar `explore_data(android, 0, 5, True)`, observamos que el dataset de **Google Play** contiene:\n",
    "\n",
    "- **10,841 aplicaciones**\n",
    "- **13 columnas**\n",
    "\n",
    "A simple vista, las columnas que podrían resultar **más útiles para el análisis** son:\n",
    "\n",
    "- `'App'` — Nombre de la aplicación  \n",
    "- `'Category'` — Categoría general  \n",
    "- `'Reviews'` — Número de reseñas  \n",
    "- `'Installs'` — Número de instalaciones  \n",
    "- `'Type'` — Gratuita o de pago  \n",
    "- `'Price'` — Precio  \n",
    "- `'Genres'` — Género(s) más específicos"
   ]
  },
  {
   "cell_type": "code",
   "execution_count": 15,
   "id": "e60c0dc5-e09e-46f7-8699-4f3f515c34bc",
   "metadata": {},
   "outputs": [
    {
     "name": "stdout",
     "output_type": "stream",
     "text": [
      "['281796108', 'Evernote - stay organized', '158578688', 'USD', '0', '161065', '26', '4', '3.5', '8.2.2', '4+', 'Productivity', '37', '5', '23', '1']\n",
      "\n",
      "\n",
      "['281940292', 'WeatherBug - Local Weather, Radar, Maps, Alerts', '100524032', 'USD', '0', '188583', '2822', '3.5', '4.5', '5.0.0', '4+', 'Weather', '37', '5', '3', '1']\n",
      "\n",
      "\n",
      "['282614216', 'eBay: Best App to Buy, Sell, Save! Online Shopping', '128512000', 'USD', '0', '262241', '649', '4', '4.5', '5.10.0', '12+', 'Shopping', '37', '5', '9', '1']\n",
      "\n",
      "\n",
      "['282935706', 'Bible', '92774400', 'USD', '0', '985920', '5320', '4.5', '5', '7.5.1', '4+', 'Reference', '37', '5', '45', '1']\n",
      "\n",
      "\n",
      "Number of rows: 7197\n",
      "Number of columns: 16\n"
     ]
    }
   ],
   "source": [
    "explore_data(ios, 1,5, True)"
   ]
  },
  {
   "cell_type": "markdown",
   "id": "268d3062-dbd4-4435-900a-bf1ce0259716",
   "metadata": {},
   "source": [
    "Al explorar el dataset de **iOS**, observamos que contiene:\n",
    "\n",
    "- **7,197 aplicaciones**\n",
    "- Un conjunto de columnas con metadatos detallados sobre cada app.\n",
    "\n",
    "Las columnas que parecen **más relevantes para el análisis** son:\n",
    "\n",
    "- `'track_name'` — Nombre de la aplicación  \n",
    "- `'currency'` — Tipo de moneda  \n",
    "- `'price'` — Precio de la app  \n",
    "- `'rating_count_tot'` — Total de calificaciones recibidas  \n",
    "- `'rating_count_ver'` — Calificaciones en la versión actual  \n",
    "- `'prime_genre'` — Género principal de la app"
   ]
  },
  {
   "cell_type": "markdown",
   "id": "2aed5c7a-a812-4c62-bca7-a60e8325d7b7",
   "metadata": {},
   "source": [
    "# Registro incorrecto en la observación 10472 de Android\n",
    "\n",
    "Se observa que la columna que tiene información faltante en esa fila es Genres."
   ]
  },
  {
   "cell_type": "code",
   "execution_count": 18,
   "id": "3b88900d-f713-44f7-8b5b-855155596b04",
   "metadata": {},
   "outputs": [
    {
     "data": {
      "text/plain": [
       "['Life Made WI-Fi Touchscreen Photo Frame',\n",
       " '1.9',\n",
       " '19',\n",
       " '3.0M',\n",
       " '1,000+',\n",
       " 'Free',\n",
       " '0',\n",
       " 'Everyone',\n",
       " '',\n",
       " 'February 11, 2018',\n",
       " '1.0.19',\n",
       " '4.0 and up']"
      ]
     },
     "execution_count": 18,
     "metadata": {},
     "output_type": "execute_result"
    }
   ],
   "source": [
    "android[10472]"
   ]
  },
  {
   "cell_type": "markdown",
   "id": "d506cb94-f0d8-4b97-a234-9852beb3d7cd",
   "metadata": {},
   "source": [
    "Si una fila contiene un error o datos inválidos, es posible eliminarla del conjunto de datos usando el statement `del`. Para remover una fila con el índice `N` de un dataset guardado como **lista de listas**, se utiliza la siguiente sintaxis:\n",
    "\n",
    "```python\n",
    "del data[N]"
   ]
  },
  {
   "cell_type": "code",
   "execution_count": 20,
   "id": "d56c5fa5-0e8c-4f8c-8116-1b15d2c37dd9",
   "metadata": {},
   "outputs": [],
   "source": [
    "del android[10472]"
   ]
  },
  {
   "cell_type": "markdown",
   "id": "acbe1dd2-d88c-47f8-927b-0641f7a843c2",
   "metadata": {},
   "source": [
    "# Remover duplicados"
   ]
  },
  {
   "cell_type": "markdown",
   "id": "74e71eae-3b44-4e78-a1a1-b2473d654e29",
   "metadata": {},
   "source": [
    "## Duplicados en el dataset de Google Play\n",
    "\n",
    "Si exploramos el dataset de Google Play (`android`) con suficiente detalle, observamos que **algunas aplicaciones aparecen más de una vez**.  Por ejemplo, la aplicación **Instagram** tiene **cuatro entradas** diferentes dentro del dataset.\n",
    "\n",
    "Este tipo de duplicación puede sesgar el análisis, ya que ciertas apps estarán **sobrerrepresentadas** si no limpiamos los datos adecuadamente."
   ]
  },
  {
   "cell_type": "code",
   "execution_count": 23,
   "id": "c732b65e-4a77-4b85-8a5d-e9fcfb499496",
   "metadata": {},
   "outputs": [
    {
     "name": "stdout",
     "output_type": "stream",
     "text": [
      "['Instagram', 'SOCIAL', '4.5', '66577313', 'Varies with device', '1,000,000,000+', 'Free', '0', 'Teen', 'Social', 'July 31, 2018', 'Varies with device', 'Varies with device']\n",
      "['Instagram', 'SOCIAL', '4.5', '66577446', 'Varies with device', '1,000,000,000+', 'Free', '0', 'Teen', 'Social', 'July 31, 2018', 'Varies with device', 'Varies with device']\n",
      "['Instagram', 'SOCIAL', '4.5', '66577313', 'Varies with device', '1,000,000,000+', 'Free', '0', 'Teen', 'Social', 'July 31, 2018', 'Varies with device', 'Varies with device']\n",
      "['Instagram', 'SOCIAL', '4.5', '66509917', 'Varies with device', '1,000,000,000+', 'Free', '0', 'Teen', 'Social', 'July 31, 2018', 'Varies with device', 'Varies with device']\n"
     ]
    }
   ],
   "source": [
    "# Revisar lista por lista los nombres y si es instagram, imprimir\n",
    "for app in android:\n",
    "    names=app[0]\n",
    "    if names==\"Instagram\":\n",
    "        print(app)"
   ]
  },
  {
   "cell_type": "markdown",
   "id": "06131cc2-db74-4269-981c-ff93a4ef2977",
   "metadata": {},
   "source": [
    "Vamos a examinar qué otras apps están duplicadas en el dataset de Android. Para ello, realizamos los siguientes pasos:\n",
    "\n",
    "1. Creamos dos listas:\n",
    "   - `duplicate_apps`: para guardar los nombres de las apps duplicadas.\n",
    "   - `unique_apps`: para guardar los nombres de las apps únicas.\n",
    "\n",
    "2. Iteramos sobre el dataset `android`, donde cada iteración representa una fila (lista) dentro de la lista de listas.\n",
    "\n",
    "3. En cada iteración:\n",
    "   - Se guarda el nombre de la app en una variable llamada `name`.  \n",
    "     El nombre se encuentra en el índice `0` de la fila.\n",
    "   - Si `name` ya está en la lista `unique_apps`, se añade a `duplicate_apps`.\n",
    "   - Si `name` **no** está en `unique_apps`, se añade allí como una app nueva.\n"
   ]
  },
  {
   "cell_type": "code",
   "execution_count": 25,
   "id": "71219cac-58ec-4ce9-a664-945b02444522",
   "metadata": {},
   "outputs": [],
   "source": [
    "duplicate_apps = []\n",
    "unique_apps = []\n",
    "\n",
    "for app in android:\n",
    "    name=app[0]\n",
    "    if name in unique_apps:\n",
    "        duplicate_apps.append(name)\n",
    "    else:\n",
    "        unique_apps.append(name)"
   ]
  },
  {
   "cell_type": "code",
   "execution_count": 26,
   "id": "5d05acb5-7a35-4a38-a746-820418aad928",
   "metadata": {},
   "outputs": [
    {
     "name": "stdout",
     "output_type": "stream",
     "text": [
      "Hay un total de 1181 apps duplicadas\n",
      "Hay un total de 9659 apps sin duplicados\n"
     ]
    }
   ],
   "source": [
    "print(f\"Hay un total de {len(duplicate_apps)} apps duplicadas\")\n",
    "print(f\"Hay un total de {len(unique_apps)} apps sin duplicados\")"
   ]
  },
  {
   "cell_type": "markdown",
   "id": "b46fff25-ce60-479f-80f7-efe9846123ad",
   "metadata": {},
   "source": [
    "Algunos ejemplos de apps duplicadas:"
   ]
  },
  {
   "cell_type": "code",
   "execution_count": 28,
   "id": "65be8c20-a2ce-4011-8205-80a18d957dc6",
   "metadata": {},
   "outputs": [
    {
     "data": {
      "text/plain": [
       "['Box',\n",
       " 'Google My Business',\n",
       " 'ZOOM Cloud Meetings',\n",
       " 'join.me - Simple Meetings',\n",
       " 'Box',\n",
       " 'Zenefits',\n",
       " 'Google Ads',\n",
       " 'Google My Business',\n",
       " 'Slack',\n",
       " 'FreshBooks Classic',\n",
       " 'Insightly CRM']"
      ]
     },
     "execution_count": 28,
     "metadata": {},
     "output_type": "execute_result"
    }
   ],
   "source": [
    "duplicate_apps[1:12]"
   ]
  },
  {
   "cell_type": "markdown",
   "id": "383d29e4-a713-4a55-9499-4ed331b2eb6d",
   "metadata": {},
   "source": [
    "## Eliminación de Registros Duplicados\n",
    "\n",
    "Ahora que sabemos que existen aplicaciones duplicadas en el conjunto de datos, debemos remover esos duplicados para que **cada app tenga una sola observación**.\n",
    "\n",
    "Una opción sería eliminar las filas duplicadas **aleatoriamente**, pero existe una alternativa más adecuada. Al examinar las filas duplicadas de la aplicación *Instagram*, se observa que la **principal diferencia** entre ellas ocurre en la **cuarta posición** de cada fila, que corresponde al **número de reseñas** (user reviews).\n",
    "\n",
    "Este número varía porque los datos fueron recolectados en **momentos distintos**.  \n",
    "Por lo tanto, la estrategia más razonable es **conservar la fila con el mayor número de reseñas**, ya que refleja la versión más actualizada de la información."
   ]
  },
  {
   "cell_type": "code",
   "execution_count": 30,
   "id": "15aba016-1cb9-4b1d-9b06-902e544863de",
   "metadata": {},
   "outputs": [
    {
     "name": "stdout",
     "output_type": "stream",
     "text": [
      "66577313\n",
      "66577446\n",
      "66577313\n",
      "66509917\n"
     ]
    }
   ],
   "source": [
    "# Comprobar la diferencia en reseñas\n",
    "\n",
    "for app in android:\n",
    "    names=app[0]\n",
    "    if names==\"Instagram\":\n",
    "        print(app[3])"
   ]
  },
  {
   "cell_type": "markdown",
   "id": "1bdc6820-63bd-4d9a-abc7-d90efa89c49d",
   "metadata": {},
   "source": [
    "Después de eliminar los duplicados, deberíamos quedarnos con:"
   ]
  },
  {
   "cell_type": "code",
   "execution_count": 32,
   "id": "3ce063ac-0ff6-4902-9b85-76f8fde28ecc",
   "metadata": {},
   "outputs": [
    {
     "name": "stdout",
     "output_type": "stream",
     "text": [
      "Expected lenght:  9659\n"
     ]
    }
   ],
   "source": [
    "print(\"Expected lenght: \", len(android)-len(duplicate_apps))"
   ]
  },
  {
   "cell_type": "markdown",
   "id": "0a8e2269-243a-45b9-b18f-9f933beb10ba",
   "metadata": {},
   "source": [
    "### Estrategia para Remover Duplicados\n",
    "\n",
    "Para remover las entradas duplicadas y quedarnos con **una sola fila por aplicación**, seguiremos esta estrategia:\n",
    "\n",
    "1. **Crear un diccionario** llamado `reviews_max`, donde:\n",
    "   - Cada **llave** será el nombre de una app.\n",
    "   - Cada **valor** será el **mayor número de reseñas** registrado para esa app.\n",
    "\n",
    "2. Usar ese diccionario para **crear un nuevo dataset limpio**, que:\n",
    "   - Incluya **solo una entrada por aplicación**.\n",
    "   - Conserve únicamente la **fila con el mayor número de reseñas** para cada app.\n",
    "\n",
    "Este enfoque garantiza que la información retenida sea la más actualizada y representativa de cada aplicación."
   ]
  },
  {
   "cell_type": "markdown",
   "id": "1a6e71e1-2c83-4a53-ad75-564d87edbd08",
   "metadata": {},
   "source": [
    "#### Paso 1: Crear el Diccionario con el Mayor Número de Reseñas por App\n",
    "\n",
    "El primer paso para remover duplicados consiste en crear un diccionario llamado `reviews_max`, donde:\n",
    "\n",
    "- Cada **llave** será el nombre de una app.\n",
    "- Cada **valor** será el **número más alto de reseñas** registrado para esa app.\n",
    "\n",
    "##### Procedimiento:\n",
    "\n",
    "1. Crear un diccionario vacío: `reviews_max = {}`  \n",
    "2. Iterar sobre el dataset de Google Play, excluyendo la fila de encabezados.\n",
    "3. En cada iteración:\n",
    "   - Obtener el **nombre de la app** (`name`), que está en el índice 0.\n",
    "   - Convertir el número de reseñas (índice 3) a `float` y asignarlo a `n_reviews`.\n",
    "   - Si `name` ya está en `reviews_max` **y** el valor actual de `n_reviews` es mayor que el almacenado:\n",
    "     - Actualizar el valor en el diccionario con el nuevo número.\n",
    "   - Si `name` **no está** en el diccionario:\n",
    "     - Agregar la entrada con el valor de `n_reviews`.\n",
    "\n",
    "Es importante **no usar un `else`** aquí, ya que si `reviews_max[name] < n_reviews` resulta ser `False`, el número de reseñas **no debe actualizarse**."
   ]
  },
  {
   "cell_type": "code",
   "execution_count": 35,
   "id": "6ef7ee73-bc28-4520-92b6-d03bafe5d3d5",
   "metadata": {},
   "outputs": [],
   "source": [
    "reviews_max={}\n",
    "\n",
    "for app in android:\n",
    "    name=app[0]\n",
    "    n_reviews = float(app[3])\n",
    "    if name in reviews_max and n_reviews > reviews_max[name]:\n",
    "        reviews_max[name] = n_reviews\n",
    "    elif name not in reviews_max:\n",
    "        reviews_max[name] = n_reviews"
   ]
  },
  {
   "cell_type": "markdown",
   "id": "016d8f1f-f3da-4227-b292-6497653f9783",
   "metadata": {},
   "source": [
    "Comprobar que el diccionario tenga 9,659 entradas."
   ]
  },
  {
   "cell_type": "code",
   "execution_count": 37,
   "id": "b685b613-91a0-4e56-a80e-503daa2ff82e",
   "metadata": {},
   "outputs": [
    {
     "data": {
      "text/plain": [
       "9659"
      ]
     },
     "execution_count": 37,
     "metadata": {},
     "output_type": "execute_result"
    }
   ],
   "source": [
    "len(reviews_max)"
   ]
  },
  {
   "cell_type": "markdown",
   "id": "b5339a44-9c44-4979-8e31-65293143ec80",
   "metadata": {},
   "source": [
    "#### Paso 2: Usar el Diccionario para Remover los Duplicados\n",
    "\n",
    "Ahora que ya contamos con el diccionario `reviews_max`, que almacena el **mayor número de reseñas por app**, vamos a construir un **nuevo dataset limpio**.\n",
    "\n",
    "##### Procedimiento:\n",
    "\n",
    "1. Crear dos listas vacías:\n",
    "   - `android_clean`: almacenará las filas del nuevo dataset limpio.\n",
    "   - `already_added`: almacenará los nombres de las apps que ya han sido añadidas, para evitar duplicados.\n",
    "\n",
    "2. Iterar sobre el dataset `android` (excluyendo la fila de encabezados).\n",
    "\n",
    "3. En cada iteración:\n",
    "   - Extraer el **nombre de la app** y guardarlo en la variable `name`.\n",
    "   - Convertir el número de reseñas (índice 3) a `float` y guardarlo en `n_reviews`.\n",
    "   - Verificar si:\n",
    "     - `n_reviews` es igual al número máximo de reseñas para esa app (según `reviews_max`), y\n",
    "     - `name` no está en la lista `already_added`.\n",
    "\n",
    "4. Si ambas condiciones se cumplen:\n",
    "   - Agregar la **fila completa** (`app`) a `android_clean`.\n",
    "   - Agregar el **nombre** de la app a `already_added` para llevar registro.\n",
    "\n",
    "Este proceso asegura que cada app aparezca solo **una vez** en el dataset limpio, y que esa vez sea con su **registro más reciente** (el de mayor número de reseñas).\n"
   ]
  },
  {
   "cell_type": "code",
   "execution_count": 39,
   "id": "6fbb2679-7d6c-4ce2-9ad1-576deb3c1d92",
   "metadata": {},
   "outputs": [],
   "source": [
    "android_clean = []\n",
    "already_added = []\n",
    "\n",
    "for app in android:\n",
    "    name = app[0]\n",
    "    n_reviews = float(app[3])\n",
    "    \n",
    "    if n_reviews == reviews_max[name] and name not in already_added:\n",
    "        android_clean.append(app)\n",
    "        already_added.append(name)"
   ]
  },
  {
   "cell_type": "markdown",
   "id": "5fffc111-6d3f-4681-9ef0-848edbc07ebc",
   "metadata": {},
   "source": [
    "El dataset debe tener 9,659 filas. "
   ]
  },
  {
   "cell_type": "code",
   "execution_count": 41,
   "id": "157eafb1-0b13-451b-be41-8d9bbd0575e6",
   "metadata": {},
   "outputs": [
    {
     "data": {
      "text/plain": [
       "9659"
      ]
     },
     "execution_count": 41,
     "metadata": {},
     "output_type": "execute_result"
    }
   ],
   "source": [
    "len(android_clean)"
   ]
  },
  {
   "cell_type": "markdown",
   "id": "f3262670-2404-421f-bdd0-52a380ce4bba",
   "metadata": {},
   "source": [
    "# Remover aplicaciones que no están en inglés\n",
    "\n",
    "La empresa desarrolla aplicaciones en **inglés**, por lo que nos interesa analizar solamente aquellas apps que están **diseñadas para anglohablantes**. No obstante, al explorar los datasets, notamos que existen **aplicaciones con nombres que sugieren que no están en inglés**, como por ejemplo:\n",
    "\n",
    "- Títulos en otros alfabetos (ej. chino, árabe, cirílico).\n",
    "- Aplicaciones con nombres predominantemente en otro idioma.\n",
    "\n",
    "Por ello, será necesario implementar un filtro para **eliminar aplicaciones que no estén en inglés**, basándonos en el contenido del nombre de la app."
   ]
  },
  {
   "cell_type": "code",
   "execution_count": 43,
   "id": "ee24109c-7585-4679-a8b5-805bb93f6ab1",
   "metadata": {},
   "outputs": [
    {
     "name": "stdout",
     "output_type": "stream",
     "text": [
      "搜狐新闻—新闻热点资讯掌上阅读软件\n",
      "エレメンタル ファンタジー - 高精細３ＤアクションＲＰＧ\n",
      "\n",
      "\n",
      "中国語 AQリスニング\n",
      "لعبة تقدر تربح DZ\n"
     ]
    }
   ],
   "source": [
    "print(ios[814][1])\n",
    "print(ios[6734][1])\n",
    "print(\"\\n\")\n",
    "print(android_clean[4412][0])\n",
    "print(android_clean[7940][0])"
   ]
  },
  {
   "cell_type": "markdown",
   "id": "f20f9285-7648-4d9c-8c44-8d0b40ebd4f7",
   "metadata": {},
   "source": [
    "Nos interesa quitar las aplicaciones cuyos nombres no están escritos en inglés. Una forma de hacerlo es eliminar aquellas cuyo nombre **contiene caracteres no comunes en el idioma inglés**.\n",
    "\n",
    "Los textos en inglés usualmente incluyen:\n",
    "- Letras del alfabeto en inglés (`a-z`, `A-Z`)\n",
    "- Números (`0-9`)\n",
    "- Signos de puntuación comunes como: `.`, `!`, `?`, `;`\n",
    "- Algunos símbolos como: `+`, `*`, `/`\n",
    "\n",
    "**¿Cómo identificamos caracteres no ingleses?**\n",
    "\n",
    "Cada caracter en un string tiene un número asociado llamado **código Unicode**.  \n",
    "Podemos obtener este número con la función `ord()`:\n",
    "\n",
    "```python\n",
    "ord('a')   # 97\n",
    "ord('A')   # 65\n",
    "ord('爱')  # 29233"
   ]
  },
  {
   "cell_type": "code",
   "execution_count": 45,
   "id": "e046f201-66ca-435b-8181-de8fd1f54486",
   "metadata": {},
   "outputs": [
    {
     "name": "stdout",
     "output_type": "stream",
     "text": [
      "97\n",
      "65\n",
      "29233\n",
      "53\n",
      "43\n"
     ]
    }
   ],
   "source": [
    "print(ord('a'))\n",
    "print(ord('A'))\n",
    "print(ord('爱'))\n",
    "print(ord('5'))\n",
    "print(ord('+'))"
   ]
  },
  {
   "cell_type": "markdown",
   "id": "0973f2db-d409-428a-a622-b5de5009fdaa",
   "metadata": {},
   "source": [
    "Los caracteres comúnmente utilizados en inglés tienen códigos numéricos que van del **0 al 127**, de acuerdo con el sistema **ASCII** (American Standard Code for Information Interchange).\n",
    "\n",
    "Basándonos en ese rango, podemos construir una función que detecte si un caracter pertenece al conjunto de caracteres utilizados en textos en inglés:\n",
    "\n",
    "- Si el valor numérico del caracter (obtenido con `ord()`) es **menor o igual que 127**, se considera **inglés**.\n",
    "- Si el valor es **mayor a 127**, se asume que el caracter **no es parte del alfabeto inglés estándar** (por ejemplo, letras en chino, cirílico o árabe).\n",
    "\n",
    "Los nombres de las aplicaciones están guardados como **strings**, y en Python los strings son:\n",
    "\n",
    "- **Indexables**: se puede acceder a cada caracter por su posición.\n",
    "- **Iterables**: se puede recorrer caracter por caracter usando un loop `for`.\n",
    "\n",
    "Esto significa que podemos usar un bucle para recorrer un string, evaluar el valor de cada caracter con `ord()`, y decidir si ese caracter es válido o no. Esta idea es la base para construir la función que filtrará las apps **no escritas en inglés**."
   ]
  },
  {
   "cell_type": "code",
   "execution_count": 47,
   "id": "4820e4bc-9a91-4a00-9099-a98a7affa439",
   "metadata": {},
   "outputs": [
    {
     "name": "stdout",
     "output_type": "stream",
     "text": [
      "a\n",
      "b\n",
      "c\n",
      "\n",
      "\n",
      "a\n",
      "b\n",
      "c\n"
     ]
    }
   ],
   "source": [
    "string = 'abc'\n",
    "print(string[0])\n",
    "print(string[1])\n",
    "print(string[2])\n",
    "print(\"\\n\")\n",
    "for c in string:\n",
    "    print(c)"
   ]
  },
  {
   "cell_type": "markdown",
   "id": "6e3ca7f7-ccd7-4e30-8b3d-375ba55db316",
   "metadata": {},
   "source": [
    "## Función para Detectar si un Nombre Está en Inglés\n",
    "\n",
    "Vamos a escribir una función llamada `is_english()` que:\n",
    "\n",
    "- Toma como input un **string** (por ejemplo, el nombre de una app).\n",
    "- Itera sobre cada caracter del string.\n",
    "- Utiliza `ord()` para obtener el número correspondiente de cada caracter.\n",
    "- Si **algún caracter tiene un valor mayor a 127**, la función asume que **el string no está en inglés** y retorna `False`.\n",
    "- Si **ningún caracter** tiene un valor mayor a 127, la función retorna `True`."
   ]
  },
  {
   "cell_type": "code",
   "execution_count": 49,
   "id": "8737f1cb-361d-4e34-b0fc-f1e205e1df7f",
   "metadata": {},
   "outputs": [],
   "source": [
    "def is_english(string):\n",
    "    for i in string:\n",
    "        ascii_value=ord(i)\n",
    "        if ascii_value>127:\n",
    "            return False\n",
    "    else:\n",
    "        return True"
   ]
  },
  {
   "cell_type": "markdown",
   "id": "50c128d2-ace5-4b5b-a9e2-56c80877a1ef",
   "metadata": {},
   "source": [
    "### Probar la función `is_english()`\n",
    "\n",
    "Ahora usamos la función para revisar si los siguientes nombres están en inglés o no:\n",
    "\n",
    "- `'Instagram'`\n",
    "- `'爱奇艺PPS -《欢乐颂2》电视剧热播'`\n",
    "- `'Docs To Go™ Free Office Suite'`\n",
    "- `'Instachat 😜'`"
   ]
  },
  {
   "cell_type": "code",
   "execution_count": 51,
   "id": "9f738bba-90f9-44a5-ad4d-f4b0babb05a6",
   "metadata": {},
   "outputs": [
    {
     "name": "stdout",
     "output_type": "stream",
     "text": [
      "True\n",
      "False\n",
      "False\n",
      "False\n"
     ]
    }
   ],
   "source": [
    "apps_prueba=['Instagram', '爱奇艺PPS -《欢乐颂2》电视剧热播','Docs To Go™ Free Office Suite', 'Instachat 😜']\n",
    "for app in apps_prueba:\n",
    "    print(is_english(app))"
   ]
  },
  {
   "cell_type": "markdown",
   "id": "cbe92317-f8d0-4f8e-aead-3a12c46d1ade",
   "metadata": {},
   "source": [
    "### Limitación de la Función `is_english()`\n",
    "\n",
    "Como se observa, la función que detecta apps que no están en inglés **no logra identificar correctamente ciertas apps que sí están en inglés**, como:\n",
    "\n",
    "- *Docs To Go™ Free Office Suite*\n",
    "- *Instachat 😜*\n",
    "\n",
    "Esto se debe a que los **emojis** y caracteres especiales como `™` caen **fuera del rango ASCII** (mayores a 127), por lo que la función los interpreta como signos de que el nombre **no está en inglés**, cuando en realidad sí lo está. Esto genera **falsos negativos** al filtrar aplicaciones, excluyendo algunas que sí deberían permanecer en el análisis.\n",
    "\n",
    "Por lo anterior, si se utilizara la función tal cual está, se corre el riesgo de **perder información valiosa** al etiquetar incorrectamente como no inglesas algunas apps que sí lo son.\n",
    "\n",
    "Para **minimizar ese riesgo**, se adoptará una solución más flexible:\n",
    "\n",
    "- Se eliminarán únicamente aquellas aplicaciones cuyo nombre contiene **más de tres caracteres con códigos fuera del rango ASCII**.\n",
    "- Esto permite que apps en inglés con **hasta tres emojis o caracteres especiales** aún sean aceptadas como válidas.\n",
    "\n",
    "La función seguirá siendo imperfecta, pero **más efectiva y tolerante en la práctica**."
   ]
  },
  {
   "cell_type": "markdown",
   "id": "ff42330c-f03c-41ce-a3f8-c8f878078b20",
   "metadata": {},
   "source": [
    "### Modificar la Función `is_english()`\n",
    "\n",
    "En este paso, se modifica la función `is_english()` para que sea **más tolerante** con nombres de apps en inglés que incluyen **algunos caracteres especiales**.\n",
    "El objetivo es permitir hasta **tres caracteres** con códigos ASCII mayores a 127. Si el nombre de la app contiene **más de tres** de estos caracteres, entonces se considera que **no está en inglés**.\n",
    "1. Crear un contador que inicie en cero.\n",
    "2. Iterar sobre cada caracter del string.\n",
    "3. Si el número ASCII del caracter es mayor a 127, incrementar el contador.\n",
    "4. Si el contador excede 3, retornar `False`.\n",
    "5. Si el loop termina y el contador es 3 o menor, retornar `True`.\n",
    "\n",
    "Esta versión balancea mejor **precisión** y **flexibilidad**, permitiendo conservar apps válidas aunque contengan símbolos como `™`, `©` o emojis aislados."
   ]
  },
  {
   "cell_type": "code",
   "execution_count": 54,
   "id": "621a6afa-8455-46aa-ae94-afbfeb7278dc",
   "metadata": {},
   "outputs": [],
   "source": [
    "def is_english(string):\n",
    "    caracteres_mal=0\n",
    "    for i in string:\n",
    "        ascii_value=ord(i)\n",
    "        if ascii_value>127:\n",
    "            caracteres_mal+=1\n",
    "        if caracteres_mal > 3:\n",
    "            return False\n",
    "    else:\n",
    "        return True"
   ]
  },
  {
   "cell_type": "code",
   "execution_count": 55,
   "id": "fd77ef56-6db6-44d2-9c79-621c081fea43",
   "metadata": {},
   "outputs": [
    {
     "name": "stdout",
     "output_type": "stream",
     "text": [
      "Instagram True\n",
      "爱奇艺PPS -《欢乐颂2》电视剧热播 False\n",
      "Docs To Go™ Free Office Suite True\n",
      "Instachat 😜 True\n"
     ]
    }
   ],
   "source": [
    "apps_prueba=['Instagram', '爱奇艺PPS -《欢乐颂2》电视剧热播','Docs To Go™ Free Office Suite', 'Instachat 😜']\n",
    "for app in apps_prueba:\n",
    "    print(app,is_english(app))"
   ]
  },
  {
   "cell_type": "markdown",
   "id": "4d487374-6227-4028-b2d6-f21d33491ba3",
   "metadata": {},
   "source": [
    "## Filtrado de aplicaciones en inglés en ambas bases\n",
    "\n",
    "Ahora, usamos la nueva función para filtrar las apps que no están en inglés de ambas bases de datos. Para ello, iteramos sobre cada dataset. Si el nombre de una app se identifica como en inglés, añadir la fila completa a una lista separada."
   ]
  },
  {
   "cell_type": "code",
   "execution_count": 57,
   "id": "801276ff-90a0-49d0-adae-4ea947db754d",
   "metadata": {},
   "outputs": [],
   "source": [
    "android_clean_english=[]\n",
    "\n",
    "for app in android_clean:\n",
    "    name=app[0]\n",
    "    if is_english(name):\n",
    "        android_clean_english.append(app)"
   ]
  },
  {
   "cell_type": "code",
   "execution_count": 58,
   "id": "6344f844-fcdc-489d-bd8e-bca83b23f5b1",
   "metadata": {},
   "outputs": [
    {
     "name": "stdout",
     "output_type": "stream",
     "text": [
      "9659\n",
      "9614\n"
     ]
    }
   ],
   "source": [
    "print(len(android_clean))\n",
    "print(len(android_clean_english))"
   ]
  },
  {
   "cell_type": "code",
   "execution_count": 59,
   "id": "ddf48e0a-c93e-4f81-9b37-81cbcbd72dea",
   "metadata": {},
   "outputs": [],
   "source": [
    "ios_english=[]\n",
    "\n",
    "for app in ios:\n",
    "    name=app[0]\n",
    "    if is_english(name):\n",
    "        ios_english.append(app)"
   ]
  },
  {
   "cell_type": "code",
   "execution_count": 60,
   "id": "d38242ca-f375-46c9-ad2b-dfa045fd01a3",
   "metadata": {},
   "outputs": [
    {
     "name": "stdout",
     "output_type": "stream",
     "text": [
      "7197\n",
      "7197\n"
     ]
    }
   ],
   "source": [
    "print(len(ios))\n",
    "print(len(ios_english))"
   ]
  },
  {
   "cell_type": "markdown",
   "id": "e11ca6c4-34d8-4d5c-9679-5cac0c35f809",
   "metadata": {},
   "source": [
    "# Filtrar las apps gratuitas\n",
    "\n",
    "Hasta ahora, en el proceso de limpieza del dataset hemos realizado los siguientes pasos:\n",
    "\n",
    "- Remover información inadecuada.\n",
    "- Remover aplicaciones duplicadas.\n",
    "- Remover aplicaciones que no están en inglés.\n",
    "\n",
    "Como se mencionó en la introducción, la compañía únicamente desarrolla **aplicaciones gratuitas** para descargar e instalar, y su principal fuente de ingresos proviene de la **publicidad mostrada dentro de las apps**. Sin embargo, los datasets contienen tanto aplicaciones **gratuitas** como **de pago**. Por ello, como último paso del proceso de limpieza, se filtrarán únicamente las **aplicaciones gratuitas**.\n",
    "\n",
    "Una vez completado ese filtro, el dataset estará listo para comenzar con el **análisis exploratorio**."
   ]
  },
  {
   "cell_type": "markdown",
   "id": "3a816059-6f5a-48ec-a253-0a58c91ecde1",
   "metadata": {},
   "source": [
    "Para dejar el dataset listo para el análisis, se realizará un último filtrado para conservar **solo las aplicaciones gratuitas**. El procedimiento consiste en lo siguiente:\n",
    "\n",
    "1. **Iterar sobre cada dataset** (`android_clean` y `ios`) para filtrar las aplicaciones gratuitas en **listas separadas**.\n",
    "2. **Identificar correctamente la columna que contiene el precio** de la app en cada dataset:\n",
    "   - En el dataset de Android, el precio está en una columna específica (por ejemplo, índice 7).\n",
    "   - En el dataset de iOS, el precio también se encuentra en una columna identificable (por ejemplo, índice 4).\n",
    "3. Los precios están registrados como **strings** (`'0'`, `'$0.99'`, `'$2.99'`, etc.), por lo que es importante asegurarse de que la instrucción condicional **compare con strings** y no con enteros o floats.\n",
    "4. Una vez realizado el filtrado, se revisará la **extensión de cada dataset resultante** para saber cuántas aplicaciones gratuitas permanecen y están listas para analizar.\n"
   ]
  },
  {
   "cell_type": "code",
   "execution_count": 63,
   "id": "21f35da7-382c-448f-97f5-10e12e165e54",
   "metadata": {},
   "outputs": [],
   "source": [
    "ios_english_free=[]\n",
    "\n",
    "for app in ios_english:\n",
    "    precio=app[4]\n",
    "    if precio=='0':\n",
    "        ios_english_free.append(app)"
   ]
  },
  {
   "cell_type": "code",
   "execution_count": 64,
   "id": "2b384ea4-17d5-49d7-bcb1-f29461e77614",
   "metadata": {},
   "outputs": [],
   "source": [
    "android_clean_english_free=[]\n",
    "\n",
    "for app in android_clean_english:\n",
    "    precio=app[7]\n",
    "    if precio=='0':\n",
    "        android_clean_english_free.append(app)"
   ]
  },
  {
   "cell_type": "markdown",
   "id": "efe9d512-5e23-4943-85a5-d6156d724d35",
   "metadata": {},
   "source": [
    "# Aplicaciones Más Comunes por Género\n",
    "\n",
    "Las bases finales de datos limpias son: `android_clean_english_free` y `ios_english_free`.\n",
    "\n",
    "Como se mencionó previamente, el objetivo es determinar los **tipos de aplicación que tienen mayor probabilidad de atraer usuarios**, ya que el **número de usuarios** impacta directamente en los ingresos generados por publicidad.\n",
    "\n",
    "La validación de una idea de app sigue **tres pasos clave**:\n",
    "\n",
    "1. Construir una **versión mínima viable** para Android y subirla a **Google Play**.\n",
    "2. Si la app resulta **rentable** después de 6 meses, se desarrolla también para iOS y se publica en la **App Store**.\n",
    "3. Dado que la meta final es tener la app disponible en **ambas tiendas**, es fundamental encontrar **perfiles de apps exitosos en ambos mercados**.\n",
    "\n",
    "Por ejemplo, una buena idea para ambos mercados podría ser una **app de productividad que utilice gamificación** para mejorar el compromiso del usuario.\n",
    "\n",
    "El análisis que sigue buscará identificar qué géneros y categorías dominan en cada plataforma, para detectar oportunidades viables de desarrollo."
   ]
  },
  {
   "cell_type": "markdown",
   "id": "7d504a71-2608-46be-b386-6494a3063c45",
   "metadata": {},
   "source": [
    "## Construcción de Tablas de Frecuencia por Género y Categoría\n",
    "\n",
    "Para identificar los géneros y tipos de apps más comunes en cada plataforma, construiremos **tablas de frecuencia** sobre las variables que describen el tipo de aplicación en cada dataset:\n",
    "\n",
    "- En el dataset de **iOS** (`ios_english_free`), la columna relevante es:  \n",
    "  **`prime_genre`**\n",
    "\n",
    "- En el dataset de **Android** (`android_clean_english_free`), se utilizarán dos columnas:  \n",
    "  - **`Genres`**  \n",
    "  - **`Category`**"
   ]
  },
  {
   "cell_type": "markdown",
   "id": "0d484c09-fbac-4698-8382-60afb63b66ab",
   "metadata": {},
   "source": [
    "Para analizar los géneros y categorías más comunes en cada plataforma, se crearán **dos funciones** complementarias:\n",
    "\n",
    "1. Una función para generar una **tabla de frecuencia** que muestre los **porcentajes** de cada categoría en una columna específica.\n",
    "2. Una segunda función para mostrar esa tabla en **orden descendente**, de forma que sea más fácil identificar las categorías dominantes.\n",
    "\n",
    "Ahora bien, los diccionarios en Python **no están ordenados**, por lo que una tabla de frecuencia en forma de diccionario es difícil de analizar visualmente.  Para resolver esto, la segunda función convertirá el diccionario en una lista de tuplas y luego la ordenará de forma descendente.\n",
    "\n",
    "Se construyó una función llamada `display_table()` que realiza los siguientes pasos:\n",
    "\n",
    "- Toma dos parámetros:\n",
    "  - Un **dataset** (lista de listas)\n",
    "  - Un **índice** entero que indica la columna de interés\n",
    "- Genera una tabla de frecuencia usando la función `freq_table()`.\n",
    "- Convierte el diccionario de frecuencias en una **lista de tuplas** (`(clave, valor)`).\n",
    "- Ordena la lista en **orden descendente** por valor (porcentaje).\n",
    "- Imprime cada entrada de la tabla de forma legible y ordenada."
   ]
  },
  {
   "cell_type": "code",
   "execution_count": 100,
   "id": "31ff0d91-46ac-4cf5-87af-fd5b300c4b5f",
   "metadata": {},
   "outputs": [],
   "source": [
    "def display_table(dataset, index):\n",
    "    table = freq_table(dataset, index)\n",
    "    table_display = []\n",
    "    for key in table:\n",
    "        key_val_as_tuple = (table[key], key)\n",
    "        table_display.append(key_val_as_tuple)\n",
    "\n",
    "    table_sorted = sorted(table_display, reverse = True)\n",
    "    for entry in table_sorted:\n",
    "        print(entry[1], ':', entry[0])"
   ]
  },
  {
   "cell_type": "markdown",
   "id": "ac0649df-54ad-4847-ae30-feb52d647f3c",
   "metadata": {},
   "source": [
    "**Creación de la función freq_table()**"
   ]
  },
  {
   "cell_type": "markdown",
   "id": "cab2de8d-b850-490d-bcaf-d0ec455dc6b4",
   "metadata": {},
   "source": [
    "Create a function named freq_table() that takes in two inputs: dataset (which will be a list of lists) and index (which will be an integer).\n",
    "\n",
    "The function should return the frequency table (as a dictionary) for any column we want. The frequencies should also be expressed as percentages.\n",
    "We already learned how to build frequency tables in the lesson on dictionaries.\n"
   ]
  },
  {
   "cell_type": "code",
   "execution_count": 102,
   "id": "c140e2c4-6a8a-46ff-8926-886ba90ceef4",
   "metadata": {},
   "outputs": [],
   "source": [
    "def freq_table(dataset, index):\n",
    "    column_count={}\n",
    "    for app in dataset:\n",
    "        valor_columna=app[index]\n",
    "        if valor_columna in column_count:\n",
    "            column_count[valor_columna]+=1\n",
    "        else:\n",
    "            column_count[valor_columna]=1\n",
    "    return(column_count)"
   ]
  },
  {
   "cell_type": "markdown",
   "id": "153b7016-8877-416c-a442-6a9e8b7099f2",
   "metadata": {},
   "source": [
    "### Análisis de la Tabla de Frecuencia para `prime_genre` (App Store)\n",
    "\n",
    "A partir de la tabla de frecuencia construida para la columna `prime_genre` del dataset de la App Store, reflexionamos sobre lo siguiente:\n",
    "\n",
    "1. **¿Cuál es el género más común? ¿Cuál es el segundo más común?**  \n",
    "\n",
    "2. **¿Qué otros patrones identificas?**  \n",
    "\n",
    "3. **¿La mayoría de las apps están diseñadas para fines prácticos o de entretenimiento?**  \n",
    "\n",
    "4. **¿Podríamos recomendar un perfil de app basado solo en esta tabla?**  \n",
    "\n",
    "5. **¿Un alto número de apps en un género implica un gran número de usuarios?**  "
   ]
  },
  {
   "cell_type": "code",
   "execution_count": 104,
   "id": "0c6c5cad-2302-4155-a59d-90e93260fd99",
   "metadata": {},
   "outputs": [
    {
     "name": "stdout",
     "output_type": "stream",
     "text": [
      "Games : 2257\n",
      "Entertainment : 334\n",
      "Photo & Video : 167\n",
      "Social Networking : 143\n",
      "Education : 132\n",
      "Shopping : 121\n",
      "Utilities : 109\n",
      "Lifestyle : 94\n",
      "Finance : 84\n",
      "Sports : 79\n",
      "Health & Fitness : 76\n",
      "Music : 67\n",
      "Book : 66\n",
      "Productivity : 62\n",
      "News : 58\n",
      "Travel : 56\n",
      "Food & Drink : 43\n",
      "Weather : 31\n",
      "Reference : 20\n",
      "Navigation : 20\n",
      "Business : 20\n",
      "Catalogs : 9\n",
      "Medical : 8\n"
     ]
    }
   ],
   "source": [
    "# prime_genre está en la posición 11\n",
    "display_table(ios_english_free, 11)"
   ]
  },
  {
   "cell_type": "markdown",
   "id": "f6f8569c-529b-42ff-8d56-78380ca7b72b",
   "metadata": {},
   "source": [
    "Es posible notar que el género más común con gran diferencia es `Games` con **462 apps**, mientras que el segundo más común es `Education` con **66 apps**, seguido muy de cerca por `Entertainment` con **64 apps**.\n",
    "\n",
    "Después de juegos, hay una distribución más dispersa: géneros como `Book`, `Social Networking`, `Finance` y `Lifestyle` tienen entre 30 y 50 apps. Las categorías relacionadas con funciones prácticas (`Utilities`, `Health & Fitness`, `Shopping`, `Navigation`) tienen una presencia menor pero no insignificante.\n",
    "\n",
    "Predominan claramente las apps orientadas al **entretenimiento**, especialmente `Games` (por un amplio margen), así como `Entertainment`, `Photo & Video`, `Social Networking` y `Music` (en total, **125 apps**). Las categorías prácticas como `Productivity`, `Business`, `Medical` o `Weather` tienen una presencia mucho menor (**19 apps** en total).\n",
    "\n",
    "Derivado de esta tabla **no es posible recomendar un perfil de app con certeza**. Para hacerlo, sería necesario combinar esta información con datos de **popularidad**: número de reseñas, descargas o ingresos estimados. En conclusión, un **alto número de apps en un género no implica automáticamente una alta demanda** — también puede ser reflejo de saturación o competencia excesiva."
   ]
  },
  {
   "cell_type": "markdown",
   "id": "4b807bb5-2fad-43cd-8567-c9a0dde59b5f",
   "metadata": {},
   "source": [
    "### Análisis de la Tabla de Frecuencias para Android\n",
    "\n",
    "Ahora analizamos las tablas de frecuencia de las columnas `Category` y `Genres` del dataset de Google Play. A partir de ellas, reflexionamos sobre las siguientes preguntas:\n",
    "\n",
    "1. **¿Cuáles son los géneros más comunes?**  \n",
    "\n",
    "2. **¿Qué otros patrones se observan?**  \n",
    "\n",
    "3. **¿Cómo se comparan estos resultados con los de la App Store de iOS?**  \n",
    "\n",
    "4. **¿Podemos recomendar un perfil de app basado en lo que encontramos hasta este punto?**  \n",
    "\n",
    "5. **¿Las tablas de frecuencia revelan cuáles son los géneros más frecuentes o los géneros que tienen más usuarios?**  "
   ]
  },
  {
   "cell_type": "code",
   "execution_count": 106,
   "id": "2c482784-d854-46d6-904b-043879db5bd2",
   "metadata": {},
   "outputs": [
    {
     "name": "stdout",
     "output_type": "stream",
     "text": [
      "FAMILY : 1676\n",
      "GAME : 862\n",
      "TOOLS : 750\n",
      "BUSINESS : 407\n",
      "LIFESTYLE : 346\n",
      "PRODUCTIVITY : 345\n",
      "FINANCE : 328\n",
      "MEDICAL : 313\n",
      "SPORTS : 301\n",
      "PERSONALIZATION : 294\n",
      "COMMUNICATION : 287\n",
      "HEALTH_AND_FITNESS : 273\n",
      "PHOTOGRAPHY : 261\n",
      "NEWS_AND_MAGAZINES : 248\n",
      "SOCIAL : 236\n",
      "TRAVEL_AND_LOCAL : 207\n",
      "SHOPPING : 199\n",
      "BOOKS_AND_REFERENCE : 190\n",
      "DATING : 165\n",
      "VIDEO_PLAYERS : 159\n",
      "MAPS_AND_NAVIGATION : 124\n",
      "FOOD_AND_DRINK : 110\n",
      "EDUCATION : 103\n",
      "ENTERTAINMENT : 85\n",
      "LIBRARIES_AND_DEMO : 83\n",
      "AUTO_AND_VEHICLES : 82\n",
      "HOUSE_AND_HOME : 73\n",
      "WEATHER : 71\n",
      "EVENTS : 63\n",
      "PARENTING : 58\n",
      "ART_AND_DESIGN : 57\n",
      "COMICS : 55\n",
      "BEAUTY : 53\n"
     ]
    }
   ],
   "source": [
    "# Category\n",
    "display_table(android_clean_english_free, 1)"
   ]
  },
  {
   "cell_type": "markdown",
   "id": "649a7395-d08a-4725-9fce-009c7a2a1f22",
   "metadata": {},
   "source": [
    "A partir de los datos de frecuencia para la variable `Category`, se identifican los siguientes patrones:\n",
    "\n",
    "**Categorías más frecuentes:**\n",
    "- `FAMILY` con **1,676 apps**\n",
    "- `GAME` con **862 apps**\n",
    "- `TOOLS` con **750 apps**\n",
    "- `BUSINESS` con **407 apps**\n",
    "- `LIFESTYLE`, `PRODUCTIVITY`, `FINANCE`, y `MEDICAL` con entre **313 y 346 apps**\n",
    "\n",
    "La categoría `FAMILY` lidera por un amplio margen, lo cual sugiere una fuerte presencia de aplicaciones orientadas a niños y familias. Cabe destacar que `GAME` es una categoría separada a pesar de que muchos juegos pueden estar dirigidos a niños, lo cual podría generar cierta **superposición** entre ambas categorías.\n",
    "\n",
    "**Otros patrones observables:**\n",
    "\n",
    "- Hay una **combinación equilibrada** entre apps de entretenimiento (`GAME`, `ENTERTAINMENT`, `VIDEO_PLAYERS`, `SOCIAL`, etc.) y apps de uso práctico (`TOOLS`, `PRODUCTIVITY`, `FINANCE`, `MEDICAL`, etc.).\n",
    "- Varias categorías tienen una representación **moderada a baja**, como `PARENTING`, `BEAUTY`, `COMICS`, y `ART_AND_DESIGN`, con menos de **60 apps** cada una.\n",
    "- Algunas categorías como `HEALTH_AND_FITNESS` (273) y `PHOTOGRAPHY` (261) podrían ser vistas como **puentes** entre funcionalidad y entretenimiento.\n",
    "\n",
    "**Comparación con App Store (iOS):**\n",
    "\n",
    "En la App Store, `GAMES` dominaba con **462 apps**, mientras que en Google Play destaca más `FAMILY`, con **1,676 apps**. Esto sugiere que **Google Play tiene una mayor orientación hacia apps familiares o para niños**.\n",
    "\n",
    "Además, la categoría `ENTERTAINMENT` tiene una presencia mucho menor en Google Play (**85 apps**) comparado con iOS, lo que podría reflejar diferencias en la taxonomía de categorías o estrategias de publicación."
   ]
  },
  {
   "cell_type": "code",
   "execution_count": 112,
   "id": "945b9a56-6892-4932-86c0-31c2ac7fd227",
   "metadata": {},
   "outputs": [
    {
     "name": "stdout",
     "output_type": "stream",
     "text": [
      "Tools : 749\n",
      "Entertainment : 538\n",
      "Education : 474\n",
      "Business : 407\n",
      "Productivity : 345\n",
      "Lifestyle : 345\n",
      "Finance : 328\n",
      "Medical : 313\n",
      "Sports : 307\n",
      "Personalization : 294\n",
      "Communication : 287\n",
      "Action : 275\n",
      "Health & Fitness : 273\n",
      "Photography : 261\n",
      "News & Magazines : 248\n",
      "Social : 236\n",
      "Travel & Local : 206\n",
      "Shopping : 199\n",
      "Books & Reference : 190\n",
      "Simulation : 181\n",
      "Dating : 165\n",
      "Arcade : 164\n",
      "Video Players & Editors : 157\n",
      "Casual : 156\n",
      "Maps & Navigation : 124\n",
      "Food & Drink : 110\n",
      "Puzzle : 100\n",
      "Racing : 88\n",
      "Role Playing : 83\n",
      "Libraries & Demo : 83\n",
      "Auto & Vehicles : 82\n",
      "Strategy : 81\n",
      "House & Home : 73\n",
      "Weather : 71\n",
      "Events : 63\n",
      "Adventure : 60\n",
      "Comics : 54\n",
      "Beauty : 53\n",
      "Art & Design : 53\n",
      "Parenting : 44\n",
      "Card : 40\n",
      "Casino : 38\n",
      "Trivia : 37\n",
      "Educational;Education : 35\n",
      "Board : 34\n",
      "Educational : 33\n",
      "Education;Education : 30\n",
      "Word : 23\n",
      "Casual;Pretend Play : 21\n",
      "Music : 18\n",
      "Racing;Action & Adventure : 15\n",
      "Puzzle;Brain Games : 15\n",
      "Entertainment;Music & Video : 15\n",
      "Casual;Brain Games : 12\n",
      "Casual;Action & Adventure : 12\n",
      "Arcade;Action & Adventure : 11\n",
      "Action;Action & Adventure : 9\n",
      "Educational;Pretend Play : 8\n",
      "Simulation;Action & Adventure : 7\n",
      "Parenting;Education : 7\n",
      "Entertainment;Brain Games : 7\n",
      "Board;Brain Games : 7\n",
      "Parenting;Music & Video : 6\n",
      "Educational;Brain Games : 6\n",
      "Casual;Creativity : 6\n",
      "Art & Design;Creativity : 6\n",
      "Education;Pretend Play : 5\n",
      "Role Playing;Pretend Play : 4\n",
      "Education;Creativity : 4\n",
      "Role Playing;Action & Adventure : 3\n",
      "Puzzle;Action & Adventure : 3\n",
      "Entertainment;Creativity : 3\n",
      "Entertainment;Action & Adventure : 3\n",
      "Educational;Creativity : 3\n",
      "Educational;Action & Adventure : 3\n",
      "Education;Music & Video : 3\n",
      "Education;Brain Games : 3\n",
      "Education;Action & Adventure : 3\n",
      "Adventure;Action & Adventure : 3\n",
      "Video Players & Editors;Music & Video : 2\n",
      "Sports;Action & Adventure : 2\n",
      "Simulation;Pretend Play : 2\n",
      "Puzzle;Creativity : 2\n",
      "Music;Music & Video : 2\n",
      "Entertainment;Pretend Play : 2\n",
      "Casual;Education : 2\n",
      "Board;Action & Adventure : 2\n",
      "Video Players & Editors;Creativity : 1\n",
      "Trivia;Education : 1\n",
      "Travel & Local;Action & Adventure : 1\n",
      "Tools;Education : 1\n",
      "Strategy;Education : 1\n",
      "Strategy;Creativity : 1\n",
      "Strategy;Action & Adventure : 1\n",
      "Simulation;Education : 1\n",
      "Role Playing;Brain Games : 1\n",
      "Racing;Pretend Play : 1\n",
      "Puzzle;Education : 1\n",
      "Parenting;Brain Games : 1\n",
      "Music & Audio;Music & Video : 1\n",
      "Lifestyle;Pretend Play : 1\n",
      "Lifestyle;Education : 1\n",
      "Health & Fitness;Education : 1\n",
      "Health & Fitness;Action & Adventure : 1\n",
      "Entertainment;Education : 1\n",
      "Communication;Creativity : 1\n",
      "Comics;Creativity : 1\n",
      "Casual;Music & Video : 1\n",
      "Card;Action & Adventure : 1\n",
      "Books & Reference;Education : 1\n",
      "Art & Design;Pretend Play : 1\n",
      "Art & Design;Action & Adventure : 1\n",
      "Arcade;Pretend Play : 1\n",
      "Adventure;Education : 1\n"
     ]
    }
   ],
   "source": [
    "# Genres\n",
    "display_table(android_clean_english_free, 9)"
   ]
  },
  {
   "cell_type": "markdown",
   "id": "35f6781c-01a6-4607-9b10-e52097db5fc0",
   "metadata": {},
   "source": [
    "A partir de la tabla de frecuencias proporcionada, se observan los siguientes patrones:\n",
    "\n",
    "**Géneros más frecuentes**\n",
    "\n",
    "- `Tools` con **749 apps**  \n",
    "- `Entertainment` con **538 apps**  \n",
    "- `Education` con **474 apps**  \n",
    "- `Business` con **407 apps**  \n",
    "- `Productivity` y `Lifestyle` con **345 apps** cada una  \n",
    "\n",
    "Estos valores indican una **amplia presencia de aplicaciones funcionales y utilitarias** en la tienda de Google Play.\n",
    "\n",
    "**Otros patrones observados**\n",
    "\n",
    "- Hay una combinación notable de apps orientadas al **entretenimiento** (`Entertainment`, `Photography`, `Games`, `Music`) y a funciones **prácticas** (`Tools`, `Productivity`, `Finance`, `Business`, `Medical`).\n",
    "- Se observan **géneros compuestos** como `Educational;Brain Games`, `Puzzle;Creativity` o `Art & Design;Action & Adventure`, lo que indica **subcategorías más específicas**.\n",
    "- Algunas combinaciones tienen solo **una o dos apps**, lo que podría sugerir que se crearon géneros demasiado **específicos o poco utilizados**.\n",
    "\n",
    "**Comparación con iOS:**\n",
    "\n",
    "En iOS, `Games` dominaba de manera muy clara con **462 apps**. En cambio, en Google Play el mercado está más **diversificado**.  \n",
    "Aunque hay muchas apps de entretenimiento, también destacan apps prácticas como `Tools`, `Education` y `Business`, lo que sugiere diferencias en las estrategias de publicación y en el perfil de los usuarios entre ambas plataformas.\n",
    "\n",
    "**Limitaciones del análisis:**\n",
    "\n",
    "Aunque géneros como `Tools` y `Education` son muy comunes, eso **no implica necesariamente que tengan alta demanda o éxito comercial**.  \n",
    "Esta tabla muestra solo **qué categorías son más frecuentes**, pero no **cuántos usuarios tienen**, ni **si son rentables**.\n",
    "\n",
    "Las tablas de frecuencia revelan **la oferta**, no la **popularidad**:\n",
    "- No informan sobre número de descargas, calificaciones ni engagement.\n",
    "- Un género común puede estar **saturado**.\n",
    "- Un género poco frecuente puede tener **gran potencial** si concentra usuarios activos."
   ]
  },
  {
   "cell_type": "markdown",
   "id": "ea58ee26-25de-45c1-ae40-314dd6eb6bc4",
   "metadata": {},
   "source": [
    "# Determinar los Tipos de Apps con Más Usuarios\n",
    "\n",
    "El siguiente paso consiste en analizar qué **tipos de aplicaciones tienen más usuarios**. Esta información es clave, ya que **mayor número de usuarios** implica **mayores ingresos por publicidad** (el modelo de negocio de nuestra compañía).\n",
    "\n",
    "+ Para el dataset de **Google Play**, podemos usar la columna `Installs` como una medida directa de popularidad, ya que indica el **número total de instalaciones** por app. Para obtener una visión más clara por tipo de aplicación, calcularemos el **número promedio de instalaciones por género o categoría**, lo que nos permitirá identificar qué tipos de apps tienden a atraer más usuarios.\n",
    "\n",
    "+ En el caso del dataset de **iOS**, **no contamos con datos sobre instalaciones**. Sin embargo, podemos usar como **proxy de popularidad** el número total de calificaciones (`rating_count_tot`), bajo el supuesto de que **mayor número de calificaciones** puede corresponder a **más usuarios activos**."
   ]
  },
  {
   "cell_type": "markdown",
   "id": "9e952cc9-f691-4903-8a7c-81e14e78baeb",
   "metadata": {},
   "source": [
    "## Aplicaciones más comunes por género en la App Store"
   ]
  },
  {
   "cell_type": "code",
   "execution_count": 114,
   "id": "773eb244-58ab-469d-b3e3-67a9947a0d08",
   "metadata": {},
   "outputs": [
    {
     "data": {
      "text/plain": [
       "{'Productivity': 62,\n",
       " 'Weather': 31,\n",
       " 'Shopping': 121,\n",
       " 'Reference': 20,\n",
       " 'Finance': 84,\n",
       " 'Music': 67,\n",
       " 'Utilities': 109,\n",
       " 'Travel': 56,\n",
       " 'Social Networking': 143,\n",
       " 'Sports': 79,\n",
       " 'Health & Fitness': 76,\n",
       " 'Games': 2257,\n",
       " 'Food & Drink': 43,\n",
       " 'News': 58,\n",
       " 'Book': 66,\n",
       " 'Photo & Video': 167,\n",
       " 'Entertainment': 334,\n",
       " 'Business': 20,\n",
       " 'Lifestyle': 94,\n",
       " 'Education': 132,\n",
       " 'Navigation': 20,\n",
       " 'Medical': 8,\n",
       " 'Catalogs': 9}"
      ]
     },
     "execution_count": 114,
     "metadata": {},
     "output_type": "execute_result"
    }
   ],
   "source": [
    "freq_table_ios=freq_table(ios_english_free,11)\n",
    "freq_table_ios"
   ]
  },
  {
   "cell_type": "code",
   "execution_count": 116,
   "id": "fe7bff95-07b9-4ebd-b7de-161141de224c",
   "metadata": {},
   "outputs": [
    {
     "name": "stdout",
     "output_type": "stream",
     "text": [
      "Productivity : 8051.3258426966295\n",
      "Weather : 22181.027777777777\n",
      "Shopping : 18615.32786885246\n",
      "Reference : 22410.84375\n",
      "Finance : 11047.653846153846\n",
      "Music : 28842.021739130436\n",
      "Utilities : 6863.822580645161\n",
      "Travel : 14129.444444444445\n",
      "Social Networking : 45498.89820359281\n",
      "Sports : 14026.929824561403\n",
      "Health & Fitness : 9913.172222222222\n",
      "Games : 13691.996633868463\n",
      "Food & Drink : 13938.619047619048\n",
      "News : 13015.066666666668\n",
      "Book : 5125.4375\n",
      "Photo & Video : 14352.280802292264\n",
      "Entertainment : 7533.678504672897\n",
      "Business : 4788.087719298245\n",
      "Lifestyle : 6161.763888888889\n",
      "Education : 2239.2295805739514\n",
      "Navigation : 11853.95652173913\n",
      "Medical : 592.7826086956521\n",
      "Catalogs : 1732.5\n"
     ]
    }
   ],
   "source": [
    "for genre in freq_table_ios:\n",
    "    # total va a tener el número total de ratings de cada género -sin considerar el rating en sí-\n",
    "    total = 0\n",
    "    # len_genre va a tener el número de apps específicas de cada género\n",
    "    len_genre = 0\n",
    "    for app in ios:\n",
    "        genre_app = app[11]\n",
    "        if genre_app.strip().lower() == genre.strip().lower():\n",
    "            user_ratings = float(app[5])  # rating_count_tot está en el índice 5\n",
    "            total += user_ratings\n",
    "            len_genre += 1\n",
    "    avg = total / len_genre\n",
    "    print(genre, \":\", avg)"
   ]
  },
  {
   "cell_type": "markdown",
   "id": "b317eec8-981c-4546-827a-2c6f40057ada",
   "metadata": {},
   "source": [
    "A continuación se muestra el número **promedio de calificaciones totales (`rating_count_tot`)** por género de aplicación en la App Store.\n",
    "\n",
    "**Géneros con mayor promedio de calificaciones**\n",
    "- **Social Networking**: ~45,499  \n",
    "- **Music**: ~28,842  \n",
    "- **Reference**: ~22,411  \n",
    "- **Weather**: ~22,181  \n",
    "\n",
    "**Géneros con menor interacción**\n",
    "- **Medical**: ~593  \n",
    "- **Catalogs**: ~1,732  \n",
    "- **Education**: ~2,239  \n",
    "\n",
    "**Observaciones**\n",
    "- Aunque `Games` es el género más frecuente, **no es el que tiene más usuarios promedio** (está en ~13,692).\n",
    "- Géneros como **Social Networking** y **Music**, aunque pueden tener menos apps, **tienen una base de usuarios muy activa**.\n",
    "- **Education**, aunque es frecuente, **no tiene muchos usuarios activos por app**."
   ]
  },
  {
   "cell_type": "markdown",
   "id": "aa4deb22-055a-4156-8566-6f1b3c4fea5d",
   "metadata": {},
   "source": [
    "## Aplicaciones más comunes por género en Google Play\n",
    "\n",
    "En este caso tenemos información sobre el **número de instalaciones**, lo cual debería permitirnos tener una imagen más precisa sobre la **popularidad de cada género**. Sin embargo, los valores de la columna de instalaciones están en **formatos abiertos (open-ended)**, como:\n",
    "\n",
    "- `100+`\n",
    "- `1,000+`\n",
    "- `5,000+`\n",
    "- `10,000+`\n",
    "- `1,000,000+`, etc.\n",
    "\n",
    "Esto significa que **no conocemos el número exacto de instalaciones** por app, sino únicamente un rango mínimo. A pesar de ello, los valores siguen siendo útiles como una **aproximación general de popularidad** entre géneros, especialmente cuando se usa el promedio."
   ]
  },
  {
   "cell_type": "code",
   "execution_count": 122,
   "id": "41847026-9273-42b1-a237-f995442d808d",
   "metadata": {},
   "outputs": [
    {
     "name": "stdout",
     "output_type": "stream",
     "text": [
      "1,000,000+ : 1394\n",
      "100,000+ : 1024\n",
      "10,000,000+ : 935\n",
      "10,000+ : 904\n",
      "1,000+ : 744\n",
      "100+ : 613\n",
      "5,000,000+ : 605\n",
      "500,000+ : 493\n",
      "50,000+ : 423\n",
      "5,000+ : 400\n",
      "10+ : 314\n",
      "500+ : 288\n",
      "50,000,000+ : 204\n",
      "100,000,000+ : 189\n",
      "50+ : 170\n",
      "5+ : 70\n",
      "1+ : 45\n",
      "500,000,000+ : 24\n",
      "1,000,000,000+ : 20\n",
      "0+ : 4\n",
      "0 : 1\n"
     ]
    }
   ],
   "source": [
    "display_table(android_clean_english_free,5)"
   ]
  },
  {
   "cell_type": "markdown",
   "id": "6b70c7aa-73c7-4fcb-9134-e5190c604478",
   "metadata": {},
   "source": [
    "Lo anterior implica que **no conocemos el número exacto de instalaciones**; por ejemplo, no sabemos si una aplicación con `100,000+` instalaciones tiene 100,000, 200,000 o 300,000 instalaciones reales.\n",
    "\n",
    "Sin embargo, **no necesitamos tanta precisión** para este análisis, ya que **nuestro objetivo es identificar qué géneros atraen más usuarios** de manera general. Por ello, vamos a **asumir que los valores indican el mínimo del rango**. Es decir:\n",
    "\n",
    "- `100,000+` se considerará como **100,000**\n",
    "- `1,000+` como **1,000**\n",
    "- Y así sucesivamente.\n",
    "\n",
    "Para poder realizar cálculos con estos valores, primero será necesario **convertir cada número de instalaciones de string a float**.  Esto requiere **limpiar los datos** quitando los **signos de más (+)** y las **comas (,)** del string, ya que de lo contrario la conversión fallará y causará un error."
   ]
  },
  {
   "cell_type": "code",
   "execution_count": 129,
   "id": "7a47b7a0-7360-4509-9b84-b30a2a00a87c",
   "metadata": {},
   "outputs": [
    {
     "data": {
      "text/plain": [
       "{'ART_AND_DESIGN': 57,\n",
       " 'AUTO_AND_VEHICLES': 82,\n",
       " 'BEAUTY': 53,\n",
       " 'BOOKS_AND_REFERENCE': 190,\n",
       " 'BUSINESS': 407,\n",
       " 'COMICS': 55,\n",
       " 'COMMUNICATION': 287,\n",
       " 'DATING': 165,\n",
       " 'EDUCATION': 103,\n",
       " 'ENTERTAINMENT': 85,\n",
       " 'EVENTS': 63,\n",
       " 'FINANCE': 328,\n",
       " 'FOOD_AND_DRINK': 110,\n",
       " 'HEALTH_AND_FITNESS': 273,\n",
       " 'HOUSE_AND_HOME': 73,\n",
       " 'LIBRARIES_AND_DEMO': 83,\n",
       " 'LIFESTYLE': 346,\n",
       " 'GAME': 862,\n",
       " 'FAMILY': 1676,\n",
       " 'MEDICAL': 313,\n",
       " 'SOCIAL': 236,\n",
       " 'SHOPPING': 199,\n",
       " 'PHOTOGRAPHY': 261,\n",
       " 'SPORTS': 301,\n",
       " 'TRAVEL_AND_LOCAL': 207,\n",
       " 'TOOLS': 750,\n",
       " 'PERSONALIZATION': 294,\n",
       " 'PRODUCTIVITY': 345,\n",
       " 'PARENTING': 58,\n",
       " 'WEATHER': 71,\n",
       " 'VIDEO_PLAYERS': 159,\n",
       " 'NEWS_AND_MAGAZINES': 248,\n",
       " 'MAPS_AND_NAVIGATION': 124}"
      ]
     },
     "execution_count": 129,
     "metadata": {},
     "output_type": "execute_result"
    }
   ],
   "source": [
    "# Creamos tabla de frecuencia de Category\n",
    "category_google_play = freq_table(android_clean_english_free, 1)\n",
    "category_google_play"
   ]
  },
  {
   "cell_type": "code",
   "execution_count": 136,
   "id": "5f400e1d-0cc3-46e8-be38-ab52cce8d0d5",
   "metadata": {},
   "outputs": [
    {
     "name": "stdout",
     "output_type": "stream",
     "text": [
      "ART_AND_DESIGN :  1986335.0877192982\n",
      "AUTO_AND_VEHICLES :  647317.8170731707\n",
      "BEAUTY :  513151.88679245283\n",
      "BOOKS_AND_REFERENCE :  8767811.894736841\n",
      "BUSINESS :  1712290.1474201474\n",
      "COMICS :  817657.2727272727\n",
      "COMMUNICATION :  38456119.167247385\n",
      "DATING :  854028.8303030303\n",
      "EDUCATION :  1833495.145631068\n",
      "ENTERTAINMENT :  11640705.88235294\n",
      "EVENTS :  253542.22222222222\n",
      "FINANCE :  1387692.475609756\n",
      "FOOD_AND_DRINK :  1924897.7363636363\n",
      "HEALTH_AND_FITNESS :  4188821.9853479853\n",
      "HOUSE_AND_HOME :  1331540.5616438356\n",
      "LIBRARIES_AND_DEMO :  638503.734939759\n",
      "LIFESTYLE :  1437816.2687861272\n",
      "GAME :  15588015.603248259\n",
      "FAMILY :  3695641.8198090694\n",
      "MEDICAL :  120550.61980830671\n",
      "SOCIAL :  23253652.127118643\n",
      "SHOPPING :  7036877.311557789\n",
      "PHOTOGRAPHY :  17840110.40229885\n",
      "SPORTS :  3638640.1428571427\n",
      "TRAVEL_AND_LOCAL :  13984077.710144928\n",
      "TOOLS :  10801391.298666667\n",
      "PERSONALIZATION :  5201482.6122448975\n",
      "PRODUCTIVITY :  16787331.344927534\n",
      "PARENTING :  542603.6206896552\n",
      "WEATHER :  5074486.197183099\n",
      "VIDEO_PLAYERS :  24727872.452830188\n",
      "NEWS_AND_MAGAZINES :  9549178.467741935\n",
      "MAPS_AND_NAVIGATION :  4056941.7741935486\n"
     ]
    }
   ],
   "source": [
    "for category in category_google_play:\n",
    "    total = 0\n",
    "    len_category = 0\n",
    "    for app in android_clean_english_free:\n",
    "        category_app=app[1]\n",
    "        if category_app==category:\n",
    "            installs = app[5]\n",
    "            installs=installs.replace(\"+\",\"\")\n",
    "            installs=installs.replace(\",\",\"\")\n",
    "            installs=float(installs)\n",
    "            total+=installs\n",
    "            len_category+=1\n",
    "    avg_installs=total/len_category\n",
    "    print(category, \": \",avg_installs)"
   ]
  },
  {
   "cell_type": "markdown",
   "id": "c378b7cc-a3b8-46b3-9b36-234e2b74efc5",
   "metadata": {},
   "source": [
    "Con base en los resultados obtenidos, podemos identificar patrones de popularidad que ayudan a perfilar una posible app rentable.\n",
    "\n",
    "Los datos revelan que las categorías más populares, en términos de **promedio de instalaciones por aplicación**, son:\n",
    "\n",
    "- **Communication** (~38.5 millones)\n",
    "- **Video Players** (~24.7 millones)\n",
    "- **Social** (~23.3 millones)\n",
    "- **Photography** (~17.8 millones)\n",
    "- **Productivity** (~16.8 millones)\n",
    "- **Game** (~15.6 millones)\n",
    "- **Travel & Local** (~14.0 millones)\n",
    "\n",
    "Estas categorías concentran una base de usuarios significativamente mayor que otras. Esto sugiere que tienen un **alto potencial de alcance**, aunque también podrían estar **altamente saturadas**, dificultando la entrada de nuevas apps sin una propuesta verdaderamente diferenciadora.\n",
    "\n",
    "En contraste, categorías como **Medical**, **Parenting**, **Comics** y **Beauty** presentan promedios mucho menores de instalaciones, lo que sugiere mercados más **especializados o de nicho**. Si bien podrían ser menos competitivos, también es probable que tengan un **retorno limitado** en cuanto a número de usuarios, a menos que se detecten necesidades no cubiertas.\n",
    "\n",
    "Dado que la empresa busca **maximizar el número de usuarios** (y, por tanto, los ingresos por publicidad), se recomienda enfocarse en las categorías que combinan **alta demanda** con un posible espacio de innovación. En particular:\n",
    "\n",
    "- **Productivity**: Buen equilibrio entre utilidad y alto número de instalaciones.\n",
    "- **Photography**: Gran alcance potencial con espacio para propuestas creativas.\n",
    "- **Social**: Alto engagement, aunque con fuerte competencia.\n",
    "- **Video Players** y **Communication**: Demandan alta capacidad técnica, pero podrían ser rentables si se ofrece una mejora sustancial frente a apps existentes.\n",
    "\n",
    "Una app que integre funciones de productividad con elementos sociales o de gamificación podría ser una combinación prometedora en este contexto.\n"
   ]
  },
  {
   "cell_type": "markdown",
   "id": "65e6a531-24b5-430d-a0e5-a65271ed6d21",
   "metadata": {},
   "source": [
    "# Conclusiones sobre la app más recomendable\n",
    "\n",
    "Dado que el objetivo es desarrollar una aplicación que pertenezca a un género popular en ambas plataformas para maximizar el alcance potencial y las oportunidades de monetización. Con base en los datos, los géneros que destacan tanto en la App Store como en Google Play son:\n",
    "\n",
    "Social / Social Networking\n",
    "\n",
    "Music\n",
    "\n",
    "Productivity (solo en Google Play, pero con buen potencial)\n",
    "\n",
    "Photo & Video / Photography\n",
    "\n",
    "Dado lo anterior, la recomendación es desarrollar una app social o musical."
   ]
  }
 ],
 "metadata": {
  "kernelspec": {
   "display_name": "Python [conda env:base] *",
   "language": "python",
   "name": "conda-base-py"
  },
  "language_info": {
   "codemirror_mode": {
    "name": "ipython",
    "version": 3
   },
   "file_extension": ".py",
   "mimetype": "text/x-python",
   "name": "python",
   "nbconvert_exporter": "python",
   "pygments_lexer": "ipython3",
   "version": "3.12.7"
  }
 },
 "nbformat": 4,
 "nbformat_minor": 5
}
